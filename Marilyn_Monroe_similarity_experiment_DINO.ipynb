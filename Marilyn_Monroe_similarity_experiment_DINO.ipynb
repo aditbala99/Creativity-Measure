{
  "nbformat": 4,
  "nbformat_minor": 0,
  "metadata": {
    "colab": {
      "provenance": [],
      "gpuType": "T4",
      "include_colab_link": true
    },
    "kernelspec": {
      "name": "python3",
      "display_name": "Python 3"
    },
    "language_info": {
      "name": "python"
    },
    "accelerator": "GPU"
  },
  "cells": [
    {
      "cell_type": "markdown",
      "metadata": {
        "id": "view-in-github",
        "colab_type": "text"
      },
      "source": [
        "<a href=\"https://colab.research.google.com/github/ericbzhou/genai_creativity/blob/main/Marilyn_Monroe_similarity_experiment_DINO.ipynb\" target=\"_parent\"><img src=\"https://colab.research.google.com/assets/colab-badge.svg\" alt=\"Open In Colab\"/></a>"
      ]
    },
    {
      "cell_type": "code",
      "execution_count": 14,
      "metadata": {
        "colab": {
          "base_uri": "https://localhost:8080/"
        },
        "id": "tnWKGtONYv_B",
        "outputId": "59a4b66e-26d0-4916-f092-bb9d72ffefbe"
      },
      "outputs": [
        {
          "output_type": "stream",
          "name": "stdout",
          "text": [
            "Drive already mounted at /content/drive; to attempt to forcibly remount, call drive.mount(\"/content/drive\", force_remount=True).\n"
          ]
        }
      ],
      "source": [
        "# connect to google drive\n",
        "from google.colab import drive\n",
        "drive.mount('/content/drive')"
      ]
    },
    {
      "cell_type": "code",
      "source": [
        "import numpy as np\n",
        "import os\n",
        "\n",
        "# Set the path to the root directory containing the .npy files\n",
        "root_path = \"/content/drive/MyDrive/MM_DA1_DINO_embs\"\n",
        "\n",
        "\n",
        "# Define a function to recursively load all .npy or .png files in a directory into a list\n",
        "def load_data_in_directory(dir_path):\n",
        "    data = []\n",
        "    i = 0\n",
        "    for file_name in os.listdir(dir_path):\n",
        "        file_path = os.path.join(dir_path, file_name)\n",
        "        if os.path.isdir(file_path):\n",
        "            # If the file is a directory, recursively load the files inside it\n",
        "            data += load_data_in_directory(file_path)\n",
        "        else:\n",
        "            # If the file is a .npy or .png file, load the data and add it to the list\n",
        "            try:\n",
        "                data.append(np.load(file_path))\n",
        "                print(f\"for the {i}th embedding file, the file path is: {file_path}\")\n",
        "            except:\n",
        "                print(f\"Error loading file: {file_path}\")\n",
        "            i += 1\n",
        "    return data"
      ],
      "metadata": {
        "id": "pF_9YBUKZ3SZ"
      },
      "execution_count": 15,
      "outputs": []
    },
    {
      "cell_type": "code",
      "source": [
        "# Call the function on the root directory to load all .npy files in the directory tree\n",
        "data = load_data_in_directory(root_path)\n"
      ],
      "metadata": {
        "colab": {
          "base_uri": "https://localhost:8080/"
        },
        "id": "qFPHqIOfaFtK",
        "outputId": "10dfa7c5-a764-4aa1-fb65-3f95004ff10a"
      },
      "execution_count": 16,
      "outputs": [
        {
          "output_type": "stream",
          "name": "stdout",
          "text": [
            "for the 0th embedding file, the file path is: /content/drive/MyDrive/MM_DA1_DINO_embs/6B3DDE40-36AF-9188-C9B7-B1C5412074A6.png.npy\n",
            "for the 1th embedding file, the file path is: /content/drive/MyDrive/MM_DA1_DINO_embs/8.jpg.npy\n",
            "for the 2th embedding file, the file path is: /content/drive/MyDrive/MM_DA1_DINO_embs/1.jpg.npy\n",
            "for the 3th embedding file, the file path is: /content/drive/MyDrive/MM_DA1_DINO_embs/9.jpg.npy\n",
            "for the 4th embedding file, the file path is: /content/drive/MyDrive/MM_DA1_DINO_embs/7827B31E-6816-5106-00DB-0D2BF344981C.png.npy\n",
            "for the 5th embedding file, the file path is: /content/drive/MyDrive/MM_DA1_DINO_embs/2.jpg.npy\n",
            "for the 6th embedding file, the file path is: /content/drive/MyDrive/MM_DA1_DINO_embs/3.jpg.npy\n",
            "for the 7th embedding file, the file path is: /content/drive/MyDrive/MM_DA1_DINO_embs/6.jpg.npy\n",
            "for the 8th embedding file, the file path is: /content/drive/MyDrive/MM_DA1_DINO_embs/10.jpg.npy\n",
            "for the 9th embedding file, the file path is: /content/drive/MyDrive/MM_DA1_DINO_embs/7968FD2F-8910-05F3-9AEC-A38A1B607EA8.png.npy\n",
            "for the 10th embedding file, the file path is: /content/drive/MyDrive/MM_DA1_DINO_embs/5.jpg.npy\n",
            "for the 11th embedding file, the file path is: /content/drive/MyDrive/MM_DA1_DINO_embs/7.jpg.npy\n",
            "for the 12th embedding file, the file path is: /content/drive/MyDrive/MM_DA1_DINO_embs/4.jpg.npy\n"
          ]
        }
      ]
    },
    {
      "cell_type": "code",
      "source": [
        "# print the length and the first five image paths\n",
        "print(len(data))\n",
        "print(data[:5])\n",
        "print(data[0][0])"
      ],
      "metadata": {
        "colab": {
          "base_uri": "https://localhost:8080/"
        },
        "id": "VPieHsqEt99f",
        "outputId": "eb1eb789-2883-4abe-8625-514b10e24fc9"
      },
      "execution_count": null,
      "outputs": [
        {
          "output_type": "stream",
          "name": "stdout",
          "text": [
            "13\n",
            "[array([[-1.7525676 , -1.0114784 ,  4.1114063 , ..., -1.0461495 ,\n",
            "         0.81068146, -0.42851925]], dtype=float32), array([[-3.128937  , -1.4659426 ,  2.6430736 , ..., -0.97630954,\n",
            "         1.6768527 ,  0.24743237]], dtype=float32), array([[-3.5036132 , -1.4016318 ,  2.081822  , ..., -2.6336339 ,\n",
            "         2.4186025 ,  0.48361975]], dtype=float32), array([[-2.7056167, -1.3378202,  2.1222913, ..., -1.713609 ,  2.3033323,\n",
            "         0.3850722]], dtype=float32), array([[-2.4485843 , -0.73801094,  2.6385796 , ..., -1.2545383 ,\n",
            "         1.8420057 , -0.12940057]], dtype=float32)]\n",
            "[-1.7525676  -1.0114784   4.1114063  ... -1.0461495   0.81068146\n",
            " -0.42851925]\n"
          ]
        }
      ]
    },
    {
      "cell_type": "code",
      "source": [
        "from scipy.spatial.distance import cosine\n",
        "\n",
        "#Marilyn Monroe painting similarities (only different in colors)\n",
        "\n",
        "#similarity between 2.jepg and 10.jepg of MM\n",
        "similarity_2_10 = 1 - cosine(data[1][0], data[10][0])\n",
        "print(similarity_2_10)\n",
        "\n",
        "#similarity between 9.jepg and 10.jepg of MM\n",
        "similarity_9_10 = 1 - cosine(data[10][0], data[8][0])\n",
        "print(similarity_9_10)"
      ],
      "metadata": {
        "colab": {
          "base_uri": "https://localhost:8080/"
        },
        "id": "tfQc5nxXu87n",
        "outputId": "07ed8110-3c1e-4c2e-f3c6-3d1c8cdf533e"
      },
      "execution_count": null,
      "outputs": [
        {
          "output_type": "stream",
          "name": "stdout",
          "text": [
            "0.9569279551506042\n",
            "0.9341215491294861\n"
          ]
        }
      ]
    },
    {
      "cell_type": "code",
      "source": [
        "#similarity between angelina jolie and 10.jepg of Marilyn Monroe\n",
        "similarity_A_10 = 1 - cosine(data[0][0], data[10][0])\n",
        "print(similarity_A_10)\n",
        "\n",
        "#similarity between the cartoonized woman and 10.jepg of Marilyn Monroe\n",
        "similarity_W_10 = 1 - cosine(data[6][0], data[10][0])\n",
        "print(similarity_W_10)\n",
        "\n",
        "#similarity between a mushroom and 10.jepg of Marilyn Monroe\n",
        "similarity_m_10 = 1 - cosine(data[12][0], data[10][0])\n",
        "print(similarity_m_10)"
      ],
      "metadata": {
        "colab": {
          "base_uri": "https://localhost:8080/"
        },
        "id": "oISq5h78IFI8",
        "outputId": "8dfb970e-e438-4223-847b-7150b52aa691"
      },
      "execution_count": null,
      "outputs": [
        {
          "output_type": "stream",
          "name": "stdout",
          "text": [
            "0.5102179646492004\n",
            "0.08474306017160416\n",
            "0.00487967673689127\n"
          ]
        }
      ]
    }
  ]
}